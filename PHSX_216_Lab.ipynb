{
 "cells": [
  {
   "cell_type": "code",
   "execution_count": 4,
   "metadata": {},
   "outputs": [
    {
     "name": "stdout",
     "output_type": "stream",
     "text": [
      "c=  205.2\n"
     ]
    }
   ],
   "source": [
    "import numpy as np\n",
    "\n",
    "def fred(a, b):\n",
    "    c = (a+b)*12\n",
    "    return c\n",
    "\n",
    "a = 13.2\n",
    "b = 3.9\n",
    "\n",
    "c = fred(a, b)\n",
    "\n",
    "print(\"c= \", c)\n"
   ]
  },
  {
   "cell_type": "code",
   "execution_count": 5,
   "metadata": {},
   "outputs": [
    {
     "name": "stdout",
     "output_type": "stream",
     "text": [
      "1.104536101718726\n"
     ]
    }
   ],
   "source": [
    "#let's write rule 3\n",
    "\n",
    "def rule3(dA, dB):\n",
    "    dQ = np.sqrt(dA**2+dB**2)\n",
    "    return dQ\n",
    "dA = .1\n",
    "dB = 1.1\n",
    "\n",
    "errT = rule3(dA, dB)\n",
    "print(errT)"
   ]
  },
  {
   "cell_type": "code",
   "execution_count": 9,
   "metadata": {},
   "outputs": [
    {
     "name": "stdout",
     "output_type": "stream",
     "text": [
      "[ 3  6 36]\n",
      "[ 4  8 48]\n",
      "4.96655480858378\n",
      "5.0\n"
     ]
    }
   ],
   "source": [
    "#Look at a few simple array vectorization examples\n",
    "\n",
    "x = np.array([1,2,12])\n",
    "y = x*3\n",
    "\n",
    "print(y)\n",
    "\n",
    "z = x+y\n",
    "print(z)\n",
    "\n",
    "print(np.std(x)) #Standard deviation function\n",
    "print(np.average(x))"
   ]
  },
  {
   "cell_type": "markdown",
   "metadata": {},
   "source": [
    "# This is a super fun notebook"
   ]
  },
  {
   "cell_type": "markdown",
   "metadata": {},
   "source": [
    "Python functions"
   ]
  },
  {
   "cell_type": "code",
   "execution_count": 13,
   "metadata": {},
   "outputs": [
    {
     "name": "stdout",
     "output_type": "stream",
     "text": [
      "0.012430877748948568\n"
     ]
    }
   ],
   "source": [
    "#1\n",
    "def rule1(c, dA):\n",
    "    dQ = c*dA\n",
    "    return dQ\n",
    "\n",
    "def rule2(m, dA, A, Q):\n",
    "    dQ = Q*(m*(dA/A))\n",
    "    return dQ\n",
    "\n",
    "def rule3(dA, dB):\n",
    "    dQ = np.sqrt(dA**2 + dB**2)\n",
    "    return dQ\n",
    "\n",
    "def rule4(m, dA, A, n, dB, B, Q):\n",
    "    dQ = Q*(np.sqrt((m*(dA/A))**2 + (n*(dB/B))**2))\n",
    "    return dQ\n",
    "\n",
    "#2\n",
    "dF = rule4(1, .0001, .0859, 1, .16, 10.3, .798)\n",
    "print(dF)\n",
    "\n",
    "#3\n",
    "#Yes, both calculations are the same."
   ]
  },
  {
   "cell_type": "markdown",
   "metadata": {},
   "source": [
    "Using Python for Calculations"
   ]
  },
  {
   "cell_type": "code",
   "execution_count": 19,
   "metadata": {},
   "outputs": [
    {
     "name": "stdout",
     "output_type": "stream",
     "text": [
      "The average of x is  1.1166666666666667\n",
      "The standard deviation of x is  0.17950549357115014\n",
      "The error in x is  0.073282810879294\n"
     ]
    }
   ],
   "source": [
    "#1\n",
    "x = (1.1, 1.3, 1.4, 0.9, 0.95, 1.05)\n",
    "xAvg = np.average(x)\n",
    "xStd = np.std(x)\n",
    "errX = xStd/np.sqrt(6)\n",
    "\n",
    "#2\n",
    "print(\"The average of x is \", xAvg)\n",
    "print(\"The standard deviation of x is \", xStd)\n",
    "print(\"The error in x is \", errX)\n"
   ]
  },
  {
   "cell_type": "markdown",
   "metadata": {},
   "source": [
    "LateX in Jupyter Notebooks\n",
    "#1 \n",
    "$\\delta Q = \\sqrt{(\\delta A)^2 + (\\delta B)^2}$"
   ]
  },
  {
   "cell_type": "markdown",
   "metadata": {},
   "source": [
    "#2\n",
    "$\\delta Q = Q*\\sqrt{(\\delta m/m)^2 + (\\delta slope/slope)^2}$"
   ]
  }
 ],
 "metadata": {
  "kernelspec": {
   "display_name": "Python 3",
   "language": "python",
   "name": "python3"
  },
  "language_info": {
   "codemirror_mode": {
    "name": "ipython",
    "version": 3
   },
   "file_extension": ".py",
   "mimetype": "text/x-python",
   "name": "python",
   "nbconvert_exporter": "python",
   "pygments_lexer": "ipython3",
   "version": "3.8.3"
  }
 },
 "nbformat": 4,
 "nbformat_minor": 4
}
